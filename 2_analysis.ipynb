{
 "cells": [
  {
   "cell_type": "code",
   "execution_count": 25,
   "id": "d481f7cf-55fb-4d98-aedc-e7ab595d01b4",
   "metadata": {},
   "outputs": [],
   "source": [
    "import pandas as pd\n",
    "import geopandas as gpd\n",
    "import numpy as np\n",
    "import pygeohash\n",
    "import folium\n",
    "import math\n",
    "from matplotlib import pyplot as plt\n",
    "\n",
    "def create_bins_10(df, col):\n",
    "    re = df.copy()\n",
    "    re[col+'_bin'] = re[col].apply(lambda x: int(math.floor(x/10)*10))\n",
    "    return re"
   ]
  },
  {
   "cell_type": "markdown",
   "id": "0b319b83-02f1-4018-a66f-fa2ba25d3353",
   "metadata": {
    "tags": []
   },
   "source": [
    "# Exploration & Analysis\n",
    "Now we analyze the results to see look for correlations at intersesctions:\n",
    "* Max Road Speed\n",
    "* Max Road Width\n",
    "* Max Road Width to Max Lane Count Ratio\n",
    "* Max Road Speed & Max Road Width"
   ]
  },
  {
   "cell_type": "code",
   "execution_count": 107,
   "id": "9ac0d9f9-17f6-4f7f-bb05-51929d182eb4",
   "metadata": {},
   "outputs": [],
   "source": [
    "crime_df = pd.read_json('./prepared_data/crash_data.json', orient='records')\n",
    "intersection_df = pd.read_json('./prepared_data/intersection_info.json', orient='records') \n",
    "data_df = pd.read_json('./prepared_data/prepared_data.json', orient='records')"
   ]
  },
  {
   "cell_type": "code",
   "execution_count": 111,
   "id": "bede9d96-62e9-4912-993a-fd1cf9eea403",
   "metadata": {},
   "outputs": [
    {
     "data": {
      "text/html": [
       "<div>\n",
       "<style scoped>\n",
       "    .dataframe tbody tr th:only-of-type {\n",
       "        vertical-align: middle;\n",
       "    }\n",
       "\n",
       "    .dataframe tbody tr th {\n",
       "        vertical-align: top;\n",
       "    }\n",
       "\n",
       "    .dataframe thead th {\n",
       "        text-align: right;\n",
       "    }\n",
       "</style>\n",
       "<table border=\"1\" class=\"dataframe\">\n",
       "  <thead>\n",
       "    <tr style=\"text-align: right;\">\n",
       "      <th></th>\n",
       "      <th>objectid</th>\n",
       "      <th>case_no</th>\n",
       "      <th>date</th>\n",
       "      <th>description</th>\n",
       "      <th>location</th>\n",
       "      <th>city</th>\n",
       "      <th>latitude</th>\n",
       "      <th>longitude</th>\n",
       "      <th>globalid</th>\n",
       "      <th>geohash</th>\n",
       "      <th>...</th>\n",
       "      <th>street_types</th>\n",
       "      <th>owners</th>\n",
       "      <th>max_width</th>\n",
       "      <th>min_width</th>\n",
       "      <th>max_speed_limit</th>\n",
       "      <th>min_speed_limit</th>\n",
       "      <th>max_lanes</th>\n",
       "      <th>min_lanes</th>\n",
       "      <th>max_width_to_lane_ratio</th>\n",
       "      <th>min_width_to_lane_ratio</th>\n",
       "    </tr>\n",
       "  </thead>\n",
       "  <tbody>\n",
       "    <tr>\n",
       "      <th>4</th>\n",
       "      <td>24</td>\n",
       "      <td>202200361004</td>\n",
       "      <td>2022-12-08 00:04:00+00:00</td>\n",
       "      <td>MVC - PI</td>\n",
       "      <td>GUELPH LI</td>\n",
       "      <td>BURLINGTON</td>\n",
       "      <td>43.352178</td>\n",
       "      <td>-79.803863</td>\n",
       "      <td>6c97ac07-1a63-41b5-95f8-725dea1811f4</td>\n",
       "      <td>hcyf42pv</td>\n",
       "      <td>...</td>\n",
       "      <td>[MAJOR]</td>\n",
       "      <td>[MTO, ROH]</td>\n",
       "      <td>42.0</td>\n",
       "      <td>12.0</td>\n",
       "      <td>60</td>\n",
       "      <td>50</td>\n",
       "      <td>9</td>\n",
       "      <td>0</td>\n",
       "      <td>NaN</td>\n",
       "      <td>4.666667</td>\n",
       "    </tr>\n",
       "    <tr>\n",
       "      <th>6</th>\n",
       "      <td>29</td>\n",
       "      <td>202200366735</td>\n",
       "      <td>2022-12-08 16:15:00+00:00</td>\n",
       "      <td>MVC - HIT &amp; RUN</td>\n",
       "      <td>GUELPH LI</td>\n",
       "      <td>BURLINGTON</td>\n",
       "      <td>43.352178</td>\n",
       "      <td>-79.803863</td>\n",
       "      <td>2cc4e005-eb9c-40d6-af1a-31488d1f6f9a</td>\n",
       "      <td>hcyf42pv</td>\n",
       "      <td>...</td>\n",
       "      <td>[MAJOR]</td>\n",
       "      <td>[MTO, ROH]</td>\n",
       "      <td>42.0</td>\n",
       "      <td>12.0</td>\n",
       "      <td>60</td>\n",
       "      <td>50</td>\n",
       "      <td>9</td>\n",
       "      <td>0</td>\n",
       "      <td>NaN</td>\n",
       "      <td>4.666667</td>\n",
       "    </tr>\n",
       "    <tr>\n",
       "      <th>8</th>\n",
       "      <td>31</td>\n",
       "      <td>202200367839</td>\n",
       "      <td>2022-12-14 22:20:00+00:00</td>\n",
       "      <td>MVC - PI</td>\n",
       "      <td>GUELPH LI</td>\n",
       "      <td>BURLINGTON</td>\n",
       "      <td>43.352178</td>\n",
       "      <td>-79.803863</td>\n",
       "      <td>25e4a0bc-6bb9-4f4d-a64b-3b79b1b51638</td>\n",
       "      <td>hcyf42pv</td>\n",
       "      <td>...</td>\n",
       "      <td>[MAJOR]</td>\n",
       "      <td>[MTO, ROH]</td>\n",
       "      <td>42.0</td>\n",
       "      <td>12.0</td>\n",
       "      <td>60</td>\n",
       "      <td>50</td>\n",
       "      <td>9</td>\n",
       "      <td>0</td>\n",
       "      <td>NaN</td>\n",
       "      <td>4.666667</td>\n",
       "    </tr>\n",
       "    <tr>\n",
       "      <th>9</th>\n",
       "      <td>32</td>\n",
       "      <td>202200367890</td>\n",
       "      <td>2022-12-14 23:25:00+00:00</td>\n",
       "      <td>MVC - HIT &amp; RUN</td>\n",
       "      <td>GUELPH LI</td>\n",
       "      <td>BURLINGTON</td>\n",
       "      <td>43.352178</td>\n",
       "      <td>-79.803863</td>\n",
       "      <td>58a8b2b4-2072-49d2-b348-f4e483df65c7</td>\n",
       "      <td>hcyf42pv</td>\n",
       "      <td>...</td>\n",
       "      <td>[MAJOR]</td>\n",
       "      <td>[MTO, ROH]</td>\n",
       "      <td>42.0</td>\n",
       "      <td>12.0</td>\n",
       "      <td>60</td>\n",
       "      <td>50</td>\n",
       "      <td>9</td>\n",
       "      <td>0</td>\n",
       "      <td>NaN</td>\n",
       "      <td>4.666667</td>\n",
       "    </tr>\n",
       "    <tr>\n",
       "      <th>44</th>\n",
       "      <td>170</td>\n",
       "      <td>202300121402</td>\n",
       "      <td>2023-04-20 14:35:00+00:00</td>\n",
       "      <td>MVC - PI</td>\n",
       "      <td>GUELPH LI</td>\n",
       "      <td>BURLINGTON</td>\n",
       "      <td>43.352178</td>\n",
       "      <td>-79.803863</td>\n",
       "      <td>11d3c91a-350f-4df6-a99f-47a4b3ea6da7</td>\n",
       "      <td>hcyf42pv</td>\n",
       "      <td>...</td>\n",
       "      <td>[MAJOR]</td>\n",
       "      <td>[MTO, ROH]</td>\n",
       "      <td>42.0</td>\n",
       "      <td>12.0</td>\n",
       "      <td>60</td>\n",
       "      <td>50</td>\n",
       "      <td>9</td>\n",
       "      <td>0</td>\n",
       "      <td>NaN</td>\n",
       "      <td>4.666667</td>\n",
       "    </tr>\n",
       "    <tr>\n",
       "      <th>...</th>\n",
       "      <td>...</td>\n",
       "      <td>...</td>\n",
       "      <td>...</td>\n",
       "      <td>...</td>\n",
       "      <td>...</td>\n",
       "      <td>...</td>\n",
       "      <td>...</td>\n",
       "      <td>...</td>\n",
       "      <td>...</td>\n",
       "      <td>...</td>\n",
       "      <td>...</td>\n",
       "      <td>...</td>\n",
       "      <td>...</td>\n",
       "      <td>...</td>\n",
       "      <td>...</td>\n",
       "      <td>...</td>\n",
       "      <td>...</td>\n",
       "      <td>...</td>\n",
       "      <td>...</td>\n",
       "      <td>...</td>\n",
       "      <td>...</td>\n",
       "    </tr>\n",
       "    <tr>\n",
       "      <th>1041</th>\n",
       "      <td>12571</td>\n",
       "      <td>202300366065</td>\n",
       "      <td>2023-11-23 21:57:49+00:00</td>\n",
       "      <td>MVC - PI</td>\n",
       "      <td>PLAINS RD W</td>\n",
       "      <td>BURLINGTON</td>\n",
       "      <td>43.294842</td>\n",
       "      <td>-79.890440</td>\n",
       "      <td>32fb2193-9238-4b2c-97f4-d16dcec3758d</td>\n",
       "      <td>hcyc90qk</td>\n",
       "      <td>...</td>\n",
       "      <td>[MAJOR]</td>\n",
       "      <td>[MTO]</td>\n",
       "      <td>12.0</td>\n",
       "      <td>12.0</td>\n",
       "      <td>80</td>\n",
       "      <td>50</td>\n",
       "      <td>0</td>\n",
       "      <td>0</td>\n",
       "      <td>NaN</td>\n",
       "      <td>NaN</td>\n",
       "    </tr>\n",
       "    <tr>\n",
       "      <th>1074</th>\n",
       "      <td>13267</td>\n",
       "      <td>202300074262</td>\n",
       "      <td>2023-03-08 23:33:00+00:00</td>\n",
       "      <td>MVC - PI</td>\n",
       "      <td>ALAYNE BRYK WY</td>\n",
       "      <td>BURLINGTON</td>\n",
       "      <td>43.311392</td>\n",
       "      <td>-79.858857</td>\n",
       "      <td>63567805-1435-477f-bdce-f3e605de5ec4</td>\n",
       "      <td>hcyc9w4k</td>\n",
       "      <td>...</td>\n",
       "      <td>[MAJOR]</td>\n",
       "      <td>[MTO, COB]</td>\n",
       "      <td>30.0</td>\n",
       "      <td>20.0</td>\n",
       "      <td>50</td>\n",
       "      <td>50</td>\n",
       "      <td>4</td>\n",
       "      <td>0</td>\n",
       "      <td>NaN</td>\n",
       "      <td>5.000000</td>\n",
       "    </tr>\n",
       "    <tr>\n",
       "      <th>1095</th>\n",
       "      <td>13831</td>\n",
       "      <td>202300276459</td>\n",
       "      <td>2023-08-29 17:19:00+00:00</td>\n",
       "      <td>MVC - HIT &amp; RUN</td>\n",
       "      <td>403 HWY</td>\n",
       "      <td>BURLINGTON</td>\n",
       "      <td>43.312032</td>\n",
       "      <td>-79.859808</td>\n",
       "      <td>e22c4a8f-1bc2-42a7-9360-cfd92dd45e57</td>\n",
       "      <td>hcyc9w4k</td>\n",
       "      <td>...</td>\n",
       "      <td>[MAJOR]</td>\n",
       "      <td>[MTO, COB]</td>\n",
       "      <td>30.0</td>\n",
       "      <td>20.0</td>\n",
       "      <td>50</td>\n",
       "      <td>50</td>\n",
       "      <td>4</td>\n",
       "      <td>0</td>\n",
       "      <td>NaN</td>\n",
       "      <td>5.000000</td>\n",
       "    </tr>\n",
       "    <tr>\n",
       "      <th>1096</th>\n",
       "      <td>13833</td>\n",
       "      <td>202300293403</td>\n",
       "      <td>2023-09-12 16:50:00+00:00</td>\n",
       "      <td>MVC - PI</td>\n",
       "      <td>403 HWY</td>\n",
       "      <td>BURLINGTON</td>\n",
       "      <td>43.312032</td>\n",
       "      <td>-79.859808</td>\n",
       "      <td>5c332532-35b8-4dd8-b124-e702eb27111f</td>\n",
       "      <td>hcyc9w4k</td>\n",
       "      <td>...</td>\n",
       "      <td>[MAJOR]</td>\n",
       "      <td>[MTO, COB]</td>\n",
       "      <td>30.0</td>\n",
       "      <td>20.0</td>\n",
       "      <td>50</td>\n",
       "      <td>50</td>\n",
       "      <td>4</td>\n",
       "      <td>0</td>\n",
       "      <td>NaN</td>\n",
       "      <td>5.000000</td>\n",
       "    </tr>\n",
       "    <tr>\n",
       "      <th>1097</th>\n",
       "      <td>13835</td>\n",
       "      <td>202300350682</td>\n",
       "      <td>2023-11-07 17:25:00+00:00</td>\n",
       "      <td>MVC - HIT &amp; RUN</td>\n",
       "      <td>403 HWY</td>\n",
       "      <td>BURLINGTON</td>\n",
       "      <td>43.312032</td>\n",
       "      <td>-79.859808</td>\n",
       "      <td>05fd93a3-3c17-44cd-be11-7b4c4abaca4b</td>\n",
       "      <td>hcyc9w4k</td>\n",
       "      <td>...</td>\n",
       "      <td>[MAJOR]</td>\n",
       "      <td>[MTO, COB]</td>\n",
       "      <td>30.0</td>\n",
       "      <td>20.0</td>\n",
       "      <td>50</td>\n",
       "      <td>50</td>\n",
       "      <td>4</td>\n",
       "      <td>0</td>\n",
       "      <td>NaN</td>\n",
       "      <td>5.000000</td>\n",
       "    </tr>\n",
       "  </tbody>\n",
       "</table>\n",
       "<p>102 rows × 23 columns</p>\n",
       "</div>"
      ],
      "text/plain": [
       "      objectid       case_no                      date       description  \\\n",
       "4           24  202200361004 2022-12-08 00:04:00+00:00          MVC - PI   \n",
       "6           29  202200366735 2022-12-08 16:15:00+00:00   MVC - HIT & RUN   \n",
       "8           31  202200367839 2022-12-14 22:20:00+00:00          MVC - PI   \n",
       "9           32  202200367890 2022-12-14 23:25:00+00:00   MVC - HIT & RUN   \n",
       "44         170  202300121402 2023-04-20 14:35:00+00:00          MVC - PI   \n",
       "...        ...           ...                       ...               ...   \n",
       "1041     12571  202300366065 2023-11-23 21:57:49+00:00          MVC - PI   \n",
       "1074     13267  202300074262 2023-03-08 23:33:00+00:00          MVC - PI   \n",
       "1095     13831  202300276459 2023-08-29 17:19:00+00:00   MVC - HIT & RUN   \n",
       "1096     13833  202300293403 2023-09-12 16:50:00+00:00          MVC - PI   \n",
       "1097     13835  202300350682 2023-11-07 17:25:00+00:00   MVC - HIT & RUN   \n",
       "\n",
       "            location        city   latitude  longitude  \\\n",
       "4          GUELPH LI  BURLINGTON  43.352178 -79.803863   \n",
       "6          GUELPH LI  BURLINGTON  43.352178 -79.803863   \n",
       "8          GUELPH LI  BURLINGTON  43.352178 -79.803863   \n",
       "9          GUELPH LI  BURLINGTON  43.352178 -79.803863   \n",
       "44         GUELPH LI  BURLINGTON  43.352178 -79.803863   \n",
       "...              ...         ...        ...        ...   \n",
       "1041     PLAINS RD W  BURLINGTON  43.294842 -79.890440   \n",
       "1074  ALAYNE BRYK WY  BURLINGTON  43.311392 -79.858857   \n",
       "1095         403 HWY  BURLINGTON  43.312032 -79.859808   \n",
       "1096         403 HWY  BURLINGTON  43.312032 -79.859808   \n",
       "1097         403 HWY  BURLINGTON  43.312032 -79.859808   \n",
       "\n",
       "                                  globalid   geohash  ... street_types  \\\n",
       "4     6c97ac07-1a63-41b5-95f8-725dea1811f4  hcyf42pv  ...      [MAJOR]   \n",
       "6     2cc4e005-eb9c-40d6-af1a-31488d1f6f9a  hcyf42pv  ...      [MAJOR]   \n",
       "8     25e4a0bc-6bb9-4f4d-a64b-3b79b1b51638  hcyf42pv  ...      [MAJOR]   \n",
       "9     58a8b2b4-2072-49d2-b348-f4e483df65c7  hcyf42pv  ...      [MAJOR]   \n",
       "44    11d3c91a-350f-4df6-a99f-47a4b3ea6da7  hcyf42pv  ...      [MAJOR]   \n",
       "...                                    ...       ...  ...          ...   \n",
       "1041  32fb2193-9238-4b2c-97f4-d16dcec3758d  hcyc90qk  ...      [MAJOR]   \n",
       "1074  63567805-1435-477f-bdce-f3e605de5ec4  hcyc9w4k  ...      [MAJOR]   \n",
       "1095  e22c4a8f-1bc2-42a7-9360-cfd92dd45e57  hcyc9w4k  ...      [MAJOR]   \n",
       "1096  5c332532-35b8-4dd8-b124-e702eb27111f  hcyc9w4k  ...      [MAJOR]   \n",
       "1097  05fd93a3-3c17-44cd-be11-7b4c4abaca4b  hcyc9w4k  ...      [MAJOR]   \n",
       "\n",
       "          owners max_width min_width max_speed_limit  min_speed_limit  \\\n",
       "4     [MTO, ROH]      42.0      12.0              60               50   \n",
       "6     [MTO, ROH]      42.0      12.0              60               50   \n",
       "8     [MTO, ROH]      42.0      12.0              60               50   \n",
       "9     [MTO, ROH]      42.0      12.0              60               50   \n",
       "44    [MTO, ROH]      42.0      12.0              60               50   \n",
       "...          ...       ...       ...             ...              ...   \n",
       "1041       [MTO]      12.0      12.0              80               50   \n",
       "1074  [MTO, COB]      30.0      20.0              50               50   \n",
       "1095  [MTO, COB]      30.0      20.0              50               50   \n",
       "1096  [MTO, COB]      30.0      20.0              50               50   \n",
       "1097  [MTO, COB]      30.0      20.0              50               50   \n",
       "\n",
       "      max_lanes  min_lanes  max_width_to_lane_ratio  min_width_to_lane_ratio  \n",
       "4             9          0                      NaN                 4.666667  \n",
       "6             9          0                      NaN                 4.666667  \n",
       "8             9          0                      NaN                 4.666667  \n",
       "9             9          0                      NaN                 4.666667  \n",
       "44            9          0                      NaN                 4.666667  \n",
       "...         ...        ...                      ...                      ...  \n",
       "1041          0          0                      NaN                      NaN  \n",
       "1074          4          0                      NaN                 5.000000  \n",
       "1095          4          0                      NaN                 5.000000  \n",
       "1096          4          0                      NaN                 5.000000  \n",
       "1097          4          0                      NaN                 5.000000  \n",
       "\n",
       "[102 rows x 23 columns]"
      ]
     },
     "execution_count": 111,
     "metadata": {},
     "output_type": "execute_result"
    }
   ],
   "source": [
    "data_df[data_df['max_width_to_lane_ratio'].isna()][['location', 'latitude', 'longitude', 'geohash', '"
   ]
  },
  {
   "cell_type": "code",
   "execution_count": 116,
   "id": "0453492e-ec5c-4859-a72d-5f6dba6805e2",
   "metadata": {},
   "outputs": [
    {
     "data": {
      "text/plain": [
       "<AxesSubplot:>"
      ]
     },
     "execution_count": 116,
     "metadata": {},
     "output_type": "execute_result"
    },
    {
     "data": {
      "image/png": "[encoded data removed]",
      "text/plain": [
       "<Figure size 432x288 with 1 Axes>"
      ]
     },
     "metadata": {
      "needs_background": "light"
     },
     "output_type": "display_data"
    }
   ],
   "source": [
    "data_df['max_width_to_lane_ratio'].value_counts().plot.bar()"
   ]
  },
  {
   "cell_type": "markdown",
   "id": "0479cdbc-5d98-4f71-95b6-f3bfc0facf94",
   "metadata": {},
   "source": [
    "First we'll find the number of intersections with certain values for normalization later."
   ]
  },
  {
   "cell_type": "code",
   "execution_count": 4,
   "id": "c258bf0b-00cd-4e03-9b80-fd1c7166993e",
   "metadata": {},
   "outputs": [],
   "source": [
    "stats = dict()\n",
    "stats_cols = ['max_width', 'min_width', 'max_speed_limit', 'min_speed_limit', 'max_lanes', 'min_lanes']\n",
    "for col in stats_cols:\n",
    "    stats[col] = intersection_df[col].value_counts()\n",
    "for col in stats_cols:\n",
    "    stats[col + '_bin'] = create_bins_10(intersection_df, col)[col+'_bin'].value_counts()"
   ]
  },
  {
   "cell_type": "markdown",
   "id": "47d7f591-c345-4241-96d9-88e3b7203e3a",
   "metadata": {},
   "source": [
    "## Road Speeds\n",
    "We'll take a naive look first at the normalized values for road speeds. We'll also be bucketing the widths into 10s. (e.g. 10m-20m, 20m-30m, etc.)"
   ]
  },
  {
   "cell_type": "code",
   "execution_count": 87,
   "id": "4e2b4375-84ec-4d03-990c-57db08023267",
   "metadata": {},
   "outputs": [
    {
     "data": {
      "image/png": "[encoded data removed]",
      "text/plain": [
       "<Figure size 432x288 with 1 Axes>"
      ]
     },
     "metadata": {
      "needs_background": "light"
     },
     "output_type": "display_data"
    }
   ],
   "source": [
    "# Is there a collision?\n",
    "(data_df[['max_speed_limit', 'geohash']].drop_duplicates()['max_speed_limit'].value_counts()/stats['max_speed_limit']).plot.bar()\n",
    "plt.xlabel('Max Speed (km/h)')\n",
    "plt.ylabel('Distrib of Intersections with a Collision')\n",
    "plt.show()"
   ]
  },
  {
   "cell_type": "code",
   "execution_count": 106,
   "id": "7d5233c5-57a8-4d0f-95ee-3562000cbbd9",
   "metadata": {},
   "outputs": [
    {
     "data": {
      "image/png": "[encoded data removed]",
      "text/plain": [
       "<Figure size 432x288 with 1 Axes>"
      ]
     },
     "metadata": {
      "needs_background": "light"
     },
     "output_type": "display_data"
    }
   ],
   "source": [
    "# Max and Min Width Distribution\n",
    "pd.DataFrame([stats['max_width_bin'], stats['min_width_bin']]).sort_index().plot.bar()\n",
    "plt.title(\"Road Widths\")\n",
    "plt.show()"
   ]
  },
  {
   "cell_type": "code",
   "execution_count": 86,
   "id": "1377ec60-098a-42e7-ba8b-bbf46ceadb24",
   "metadata": {},
   "outputs": [
    {
     "data": {
      "image/png": "[encoded data removed]",
      "text/plain": [
       "<Figure size 432x288 with 2 Axes>"
      ]
     },
     "metadata": {
      "needs_background": "light"
     },
     "output_type": "display_data"
    }
   ],
   "source": [
    "# Is there a collision?\n",
    "max_width_binned = create_bins_10(data_df[['max_width', 'geohash']].drop_duplicates(), 'max_width')\n",
    "min_width_binned = create_bins_10(data_df[['min_width', 'geohash']].drop_duplicates(), 'min_width')\n",
    "fig, axes = plt.subplots(nrows=1, ncols=2, sharey=True)\n",
    "(max_width_binned['max_width_bin'].value_counts()/stats['max_width_bin']).plot.bar(ax=axes[0])\n",
    "axes[0].title.set_text(\"Max Widths Binned\")\n",
    "(min_width_binned['min_width_bin'].value_counts()/stats['min_width_bin']).plot.bar(ax=axes[1])\n",
    "axes[1].title.set_text(\"Min Widths Binned\")\n",
    "del max_width_binned\n",
    "del min_width_binned\n",
    "fig.text(0.04, 0.5, 'Distrib of Intersections with a Collision', va='center', rotation='vertical')\n",
    "fig.text(0.5, 0.01, 'Binned Width (x < value < x+10)', ha='center')\n",
    "plt.show()"
   ]
  },
  {
   "cell_type": "markdown",
   "id": "70d63703-5a6b-48b9-b777-86bbe3608f8c",
   "metadata": {},
   "source": [
    "Despite intersections with max widths between 40 and 50 metres making up a minority, there a disproportionately large number of these intersections have collisions. \\\n",
    "Regarding min widths, more intersections at 30 to 50 metres have collisions than expected."
   ]
  },
  {
   "cell_type": "code",
   "execution_count": 101,
   "id": "70aa8be7-75c4-41a9-a567-728757234223",
   "metadata": {},
   "outputs": [
    {
     "data": {
      "image/png": "[encoded data removed]",
      "text/plain": [
       "<Figure size 432x288 with 2 Axes>"
      ]
     },
     "metadata": {
      "needs_background": "light"
     },
     "output_type": "display_data"
    }
   ],
   "source": [
    "# Collisions per intersection\n",
    "max_width_binned = create_bins_10(data_df[['max_width', 'geohash']], 'max_width')\n",
    "min_width_binned = create_bins_10(data_df[['min_width', 'geohash']], 'min_width')\n",
    "fig, axes = plt.subplots(nrows=1, ncols=2, sharey=True)\n",
    "(max_width_binned['max_width_bin'].value_counts()/stats['max_width_bin']).plot.bar(ax=axes[0])\n",
    "axes[0].title.set_text(\"Max Widths Binned\")\n",
    "(min_width_binned['min_width_bin'].value_counts()/stats['min_width_bin']).plot.bar(ax=axes[1])\n",
    "axes[1].title.set_text(\"Min Widths Binned\")\n",
    "del max_width_binned\n",
    "del min_width_binned\n",
    "fig.text(0.04, 0.5, 'Collisions per Intersection', va='center', rotation='vertical')\n",
    "fig.suptitle(\"Collisions per Intersection (Road Width)\", fontsize=16)\n",
    "fig.text(0.5, 0.01, 'Binned Width (x < value < x+10)', ha='center')\n",
    "plt.show()"
   ]
  },
  {
   "cell_type": "markdown",
   "id": "54356345-9111-4eec-948f-d4f110d4ca2e",
   "metadata": {},
   "source": [
    "As expected, there are also a higher collisions per intersection the wider the width of the intersecting roads. "
   ]
  },
  {
   "cell_type": "code",
   "execution_count": 103,
   "id": "64532241-6101-4f4c-b6c5-33558f6d4484",
   "metadata": {},
   "outputs": [
    {
     "data": {
      "image/png": "[encoded data removed]",
      "text/plain": [
       "<Figure size 432x288 with 1 Axes>"
      ]
     },
     "metadata": {
      "needs_background": "light"
     },
     "output_type": "display_data"
    }
   ],
   "source": [
    "pd.DataFrame([stats['max_lanes'], stats['min_lanes']]).sort_index().plot.bar()\n",
    "plt.title(\"Lane Counts\")\n",
    "plt.show()"
   ]
  },
  {
   "cell_type": "code",
   "execution_count": 100,
   "id": "3819b247-aeb0-404a-b1dd-cac3b13d517c",
   "metadata": {},
   "outputs": [
    {
     "data": {
      "image/png": "[encoded data removed]",
      "text/plain": [
       "<Figure size 432x288 with 2 Axes>"
      ]
     },
     "metadata": {
      "needs_background": "light"
     },
     "output_type": "display_data"
    }
   ],
   "source": [
    "# Is there a collision?\n",
    "fig, axes = plt.subplots(nrows=1, ncols=2, sharey=True)\n",
    "(data_df[['max_lanes', 'geohash']].drop_duplicates()['max_lanes'].value_counts()/stats['max_lanes']).plot.bar(ax=axes[0])\n",
    "axes[0].title.set_text(\"Max Lanes\")\n",
    "(data_df[['min_lanes', 'geohash']].drop_duplicates()['min_lanes'].value_counts()/stats['min_lanes']).plot.bar(ax=axes[1])\n",
    "axes[1].title.set_text(\"Min Lanes\")\n",
    "fig.text(0.04, 0.5, 'Distrib of intersections with a Collision', va='center', rotation='vertical')\n",
    "fig.suptitle(\"Intersections with Collisions (Lane Count)\", fontsize=16)\n",
    "fig.text(0.5, 0.01, 'Lane Count', ha='center')\n",
    "plt.show()"
   ]
  },
  {
   "cell_type": "markdown",
   "id": "70f565f5-b774-4671-9bcf-f28778fef8b2",
   "metadata": {},
   "source": [
    "Again, despite so few intersections having a high number of max lanes, a larger proportion of them have had a motor vehicle collision. A pattern is less evident when looking at the minimum number of lanes."
   ]
  },
  {
   "cell_type": "code",
   "execution_count": 97,
   "id": "a9578a9d-40ea-4b85-8e70-2d4d46c8b4df",
   "metadata": {},
   "outputs": [
    {
     "data": {
      "image/png": "[encoded data removed]",
      "text/plain": [
       "<Figure size 432x288 with 2 Axes>"
      ]
     },
     "metadata": {
      "needs_background": "light"
     },
     "output_type": "display_data"
    }
   ],
   "source": [
    "fig, axes = plt.subplots(nrows=1, ncols=2, sharey=True)\n",
    "(data_df[['max_lanes', 'geohash']]['max_lanes'].value_counts()/stats['max_lanes']).plot.bar(ax=axes[0])\n",
    "axes[0].title.set_text(\"Max Lanes\")\n",
    "(data_df[['min_lanes', 'geohash']]['min_lanes'].value_counts()/stats['min_lanes']).plot.bar(ax=axes[1])\n",
    "axes[1].title.set_text(\"Min Lanes\")\n",
    "fig.text(0.04, 0.5, 'Collisions per Intersection', va='center', rotation='vertical')\n",
    "fig.text(0.5, 0.01, 'Lane Count', ha='center')\n",
    "fig.suptitle(\"Collisions per Intersection (Lane Count)\", fontsize=16)\n",
    "plt.show()"
   ]
  },
  {
   "cell_type": "code",
   "execution_count": 112,
   "id": "2b21f475-319b-4002-9329-311d3298fa52",
   "metadata": {},
   "outputs": [
    {
     "ename": "NameError",
     "evalue": "name 'max_width_binned' is not defined",
     "output_type": "error",
     "traceback": [
      "\u001b[1;31m---------------------------------------------------------------------------\u001b[0m",
      "\u001b[1;31mNameError\u001b[0m                                 Traceback (most recent call last)",
      "\u001b[1;32m<ipython-input-112-f960014f6c23>\u001b[0m in \u001b[0;36m<module>\u001b[1;34m\u001b[0m\n\u001b[0;32m      3\u001b[0m \u001b[0mmin_width_binned\u001b[0m \u001b[1;33m=\u001b[0m \u001b[0mcreate_bins_10\u001b[0m\u001b[1;33m(\u001b[0m\u001b[0mdata_df\u001b[0m\u001b[1;33m[\u001b[0m\u001b[1;33m[\u001b[0m\u001b[1;34m'min_width'\u001b[0m\u001b[1;33m,\u001b[0m \u001b[1;34m'geohash'\u001b[0m\u001b[1;33m]\u001b[0m\u001b[1;33m]\u001b[0m\u001b[1;33m.\u001b[0m\u001b[0mdrop_duplicates\u001b[0m\u001b[1;33m(\u001b[0m\u001b[1;33m)\u001b[0m\u001b[1;33m,\u001b[0m \u001b[1;34m'min_width'\u001b[0m\u001b[1;33m)\u001b[0m\u001b[1;33m\u001b[0m\u001b[1;33m\u001b[0m\u001b[0m\n\u001b[0;32m      4\u001b[0m \u001b[0mfig\u001b[0m\u001b[1;33m,\u001b[0m \u001b[0maxes\u001b[0m \u001b[1;33m=\u001b[0m \u001b[0mplt\u001b[0m\u001b[1;33m.\u001b[0m\u001b[0msubplots\u001b[0m\u001b[1;33m(\u001b[0m\u001b[0mnrows\u001b[0m\u001b[1;33m=\u001b[0m\u001b[1;36m1\u001b[0m\u001b[1;33m,\u001b[0m \u001b[0mncols\u001b[0m\u001b[1;33m=\u001b[0m\u001b[1;36m2\u001b[0m\u001b[1;33m,\u001b[0m \u001b[0msharey\u001b[0m\u001b[1;33m=\u001b[0m\u001b[1;32mTrue\u001b[0m\u001b[1;33m)\u001b[0m\u001b[1;33m\u001b[0m\u001b[1;33m\u001b[0m\u001b[0m\n\u001b[1;32m----> 5\u001b[1;33m \u001b[1;33m(\u001b[0m\u001b[0mmax_width_binned\u001b[0m\u001b[1;33m[\u001b[0m\u001b[1;34m'max_width_bin'\u001b[0m\u001b[1;33m]\u001b[0m\u001b[1;33m.\u001b[0m\u001b[0mvalue_counts\u001b[0m\u001b[1;33m(\u001b[0m\u001b[1;33m)\u001b[0m\u001b[1;33m/\u001b[0m\u001b[0mstats\u001b[0m\u001b[1;33m[\u001b[0m\u001b[1;34m'max_width_bin'\u001b[0m\u001b[1;33m]\u001b[0m\u001b[1;33m)\u001b[0m\u001b[1;33m.\u001b[0m\u001b[0mplot\u001b[0m\u001b[1;33m.\u001b[0m\u001b[0mbar\u001b[0m\u001b[1;33m(\u001b[0m\u001b[0max\u001b[0m\u001b[1;33m=\u001b[0m\u001b[0maxes\u001b[0m\u001b[1;33m[\u001b[0m\u001b[1;36m0\u001b[0m\u001b[1;33m]\u001b[0m\u001b[1;33m)\u001b[0m\u001b[1;33m\u001b[0m\u001b[1;33m\u001b[0m\u001b[0m\n\u001b[0m\u001b[0;32m      6\u001b[0m \u001b[0maxes\u001b[0m\u001b[1;33m[\u001b[0m\u001b[1;36m0\u001b[0m\u001b[1;33m]\u001b[0m\u001b[1;33m.\u001b[0m\u001b[0mtitle\u001b[0m\u001b[1;33m.\u001b[0m\u001b[0mset_text\u001b[0m\u001b[1;33m(\u001b[0m\u001b[1;34m\"Max Widths Binned\"\u001b[0m\u001b[1;33m)\u001b[0m\u001b[1;33m\u001b[0m\u001b[1;33m\u001b[0m\u001b[0m\n\u001b[0;32m      7\u001b[0m \u001b[1;33m(\u001b[0m\u001b[0mmin_width_binned\u001b[0m\u001b[1;33m[\u001b[0m\u001b[1;34m'min_width_bin'\u001b[0m\u001b[1;33m]\u001b[0m\u001b[1;33m.\u001b[0m\u001b[0mvalue_counts\u001b[0m\u001b[1;33m(\u001b[0m\u001b[1;33m)\u001b[0m\u001b[1;33m/\u001b[0m\u001b[0mstats\u001b[0m\u001b[1;33m[\u001b[0m\u001b[1;34m'min_width_bin'\u001b[0m\u001b[1;33m]\u001b[0m\u001b[1;33m)\u001b[0m\u001b[1;33m.\u001b[0m\u001b[0mplot\u001b[0m\u001b[1;33m.\u001b[0m\u001b[0mbar\u001b[0m\u001b[1;33m(\u001b[0m\u001b[0max\u001b[0m\u001b[1;33m=\u001b[0m\u001b[0maxes\u001b[0m\u001b[1;33m[\u001b[0m\u001b[1;36m1\u001b[0m\u001b[1;33m]\u001b[0m\u001b[1;33m)\u001b[0m\u001b[1;33m\u001b[0m\u001b[1;33m\u001b[0m\u001b[0m\n",
      "\u001b[1;31mNameError\u001b[0m: name 'max_width_binned' is not defined"
     ]
    },
    {
     "data": {
      "image/png": "[encoded data removed]",
      "text/plain": [
       "<Figure size 432x288 with 2 Axes>"
      ]
     },
     "metadata": {
      "needs_background": "light"
     },
     "output_type": "display_data"
    }
   ],
   "source": [
    "# Is there a collision?\n",
    "max_width_per_lane = create_bins_10(data_df[['max_width', 'geohash']].drop_duplicates(), 'max_width')\n",
    "min_width_binned = create_bins_10(data_df[['min_width', 'geohash']].drop_duplicates(), 'min_width')\n",
    "fig, axes = plt.subplots(nrows=1, ncols=2, sharey=True)\n",
    "(max_width_binned['max_width_bin'].value_counts()/stats['max_width_bin']).plot.bar(ax=axes[0])\n",
    "axes[0].title.set_text(\"Max Widths Binned\")\n",
    "(min_width_binned['min_width_bin'].value_counts()/stats['min_width_bin']).plot.bar(ax=axes[1])\n",
    "axes[1].title.set_text(\"Min Widths Binned\")\n",
    "del max_width_binned\n",
    "del min_width_binned\n",
    "fig.text(0.04, 0.5, 'Distrib of Intersections with a Collision', va='center', rotation='vertical')\n",
    "fig.text(0.5, 0.01, 'Binned Width (x < value < x+10)', ha='center')\n",
    "plt.show()"
   ]
  }
 ],
 "metadata": {
  "kernelspec": {
   "display_name": "Python 3",
   "language": "python",
   "name": "python3"
  },
  "language_info": {
   "codemirror_mode": {
    "name": "ipython",
    "version": 3
   },
   "file_extension": ".py",
   "mimetype": "text/x-python",
   "name": "python",
   "nbconvert_exporter": "python",
   "pygments_lexer": "ipython3",
   "version": "3.8.5"
  }
 },
 "nbformat": 4,
 "nbformat_minor": 5
}
